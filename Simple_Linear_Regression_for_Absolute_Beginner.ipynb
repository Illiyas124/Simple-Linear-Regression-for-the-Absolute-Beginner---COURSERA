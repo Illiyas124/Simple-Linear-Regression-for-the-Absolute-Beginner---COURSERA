{
  "cells": [
    {
      "cell_type": "markdown",
      "metadata": {
        "id": "M27qF7CTrBqc"
      },
      "source": [
        "# TASK #1: UNDERSTAND THE PROBLEM STATEMENT"
      ]
    },
    {
      "cell_type": "markdown",
      "source": [
        "![Ice Cream Revenue](https://raw.githubusercontent.com/Illiyas124/Simple-Linear-Regression-for-the-Absolute-Beginner---COURSERA/main/Screenshot%202025-09-28%20153225.png)\n"
      ],
      "metadata": {
        "id": "krJ2sr3y0GMH"
      }
    },
    {
      "cell_type": "markdown",
      "metadata": {
        "id": "zKmFmyaGunc7"
      },
      "source": [
        "# TASK #2: IMPORT LIBRARIES AND DATASETS"
      ]
    },
    {
      "cell_type": "code",
      "execution_count": 18,
      "metadata": {
        "id": "96V_NSAYaCev"
      },
      "outputs": [],
      "source": [
        "import pandas as pd\n",
        "import numpy as np\n",
        "import seaborn as sns\n",
        "import matplotlib.pyplot as plt"
      ]
    },
    {
      "cell_type": "code",
      "execution_count": 20,
      "metadata": {
        "id": "mLjnytV6eMA0"
      },
      "outputs": [],
      "source": [
        "url = 'https://raw.githubusercontent.com/Illiyas124/Simple-Linear-Regression-for-the-Absolute-Beginner---COURSERA/refs/heads/main/IceCreamData.csv'\n",
        "df = pd.read_csv(url)"
      ]
    },
    {
      "cell_type": "code",
      "execution_count": 21,
      "metadata": {
        "colab": {
          "base_uri": "https://localhost:8080/",
          "height": 363
        },
        "id": "q4_wPDKCu5Uc",
        "outputId": "e0a21eab-2fec-4aee-adc3-f892b60a7d81"
      },
      "outputs": [
        {
          "output_type": "execute_result",
          "data": {
            "text/plain": [
              "   Temperature     Revenue\n",
              "0    24.566884  534.799028\n",
              "1    26.005191  625.190122\n",
              "2    27.790554  660.632289\n",
              "3    20.595335  487.706960\n",
              "4    11.503498  316.240194\n",
              "5    14.352514  367.940744\n",
              "6    13.707780  308.894518\n",
              "7    30.833985  696.716640\n",
              "8     0.976870   55.390338\n",
              "9    31.669465  737.800824"
            ],
            "text/html": [
              "\n",
              "  <div id=\"df-a13b3b62-496d-497d-8bd2-f43283320dd6\" class=\"colab-df-container\">\n",
              "    <div>\n",
              "<style scoped>\n",
              "    .dataframe tbody tr th:only-of-type {\n",
              "        vertical-align: middle;\n",
              "    }\n",
              "\n",
              "    .dataframe tbody tr th {\n",
              "        vertical-align: top;\n",
              "    }\n",
              "\n",
              "    .dataframe thead th {\n",
              "        text-align: right;\n",
              "    }\n",
              "</style>\n",
              "<table border=\"1\" class=\"dataframe\">\n",
              "  <thead>\n",
              "    <tr style=\"text-align: right;\">\n",
              "      <th></th>\n",
              "      <th>Temperature</th>\n",
              "      <th>Revenue</th>\n",
              "    </tr>\n",
              "  </thead>\n",
              "  <tbody>\n",
              "    <tr>\n",
              "      <th>0</th>\n",
              "      <td>24.566884</td>\n",
              "      <td>534.799028</td>\n",
              "    </tr>\n",
              "    <tr>\n",
              "      <th>1</th>\n",
              "      <td>26.005191</td>\n",
              "      <td>625.190122</td>\n",
              "    </tr>\n",
              "    <tr>\n",
              "      <th>2</th>\n",
              "      <td>27.790554</td>\n",
              "      <td>660.632289</td>\n",
              "    </tr>\n",
              "    <tr>\n",
              "      <th>3</th>\n",
              "      <td>20.595335</td>\n",
              "      <td>487.706960</td>\n",
              "    </tr>\n",
              "    <tr>\n",
              "      <th>4</th>\n",
              "      <td>11.503498</td>\n",
              "      <td>316.240194</td>\n",
              "    </tr>\n",
              "    <tr>\n",
              "      <th>5</th>\n",
              "      <td>14.352514</td>\n",
              "      <td>367.940744</td>\n",
              "    </tr>\n",
              "    <tr>\n",
              "      <th>6</th>\n",
              "      <td>13.707780</td>\n",
              "      <td>308.894518</td>\n",
              "    </tr>\n",
              "    <tr>\n",
              "      <th>7</th>\n",
              "      <td>30.833985</td>\n",
              "      <td>696.716640</td>\n",
              "    </tr>\n",
              "    <tr>\n",
              "      <th>8</th>\n",
              "      <td>0.976870</td>\n",
              "      <td>55.390338</td>\n",
              "    </tr>\n",
              "    <tr>\n",
              "      <th>9</th>\n",
              "      <td>31.669465</td>\n",
              "      <td>737.800824</td>\n",
              "    </tr>\n",
              "  </tbody>\n",
              "</table>\n",
              "</div>\n",
              "    <div class=\"colab-df-buttons\">\n",
              "\n",
              "  <div class=\"colab-df-container\">\n",
              "    <button class=\"colab-df-convert\" onclick=\"convertToInteractive('df-a13b3b62-496d-497d-8bd2-f43283320dd6')\"\n",
              "            title=\"Convert this dataframe to an interactive table.\"\n",
              "            style=\"display:none;\">\n",
              "\n",
              "  <svg xmlns=\"http://www.w3.org/2000/svg\" height=\"24px\" viewBox=\"0 -960 960 960\">\n",
              "    <path d=\"M120-120v-720h720v720H120Zm60-500h600v-160H180v160Zm220 220h160v-160H400v160Zm0 220h160v-160H400v160ZM180-400h160v-160H180v160Zm440 0h160v-160H620v160ZM180-180h160v-160H180v160Zm440 0h160v-160H620v160Z\"/>\n",
              "  </svg>\n",
              "    </button>\n",
              "\n",
              "  <style>\n",
              "    .colab-df-container {\n",
              "      display:flex;\n",
              "      gap: 12px;\n",
              "    }\n",
              "\n",
              "    .colab-df-convert {\n",
              "      background-color: #E8F0FE;\n",
              "      border: none;\n",
              "      border-radius: 50%;\n",
              "      cursor: pointer;\n",
              "      display: none;\n",
              "      fill: #1967D2;\n",
              "      height: 32px;\n",
              "      padding: 0 0 0 0;\n",
              "      width: 32px;\n",
              "    }\n",
              "\n",
              "    .colab-df-convert:hover {\n",
              "      background-color: #E2EBFA;\n",
              "      box-shadow: 0px 1px 2px rgba(60, 64, 67, 0.3), 0px 1px 3px 1px rgba(60, 64, 67, 0.15);\n",
              "      fill: #174EA6;\n",
              "    }\n",
              "\n",
              "    .colab-df-buttons div {\n",
              "      margin-bottom: 4px;\n",
              "    }\n",
              "\n",
              "    [theme=dark] .colab-df-convert {\n",
              "      background-color: #3B4455;\n",
              "      fill: #D2E3FC;\n",
              "    }\n",
              "\n",
              "    [theme=dark] .colab-df-convert:hover {\n",
              "      background-color: #434B5C;\n",
              "      box-shadow: 0px 1px 3px 1px rgba(0, 0, 0, 0.15);\n",
              "      filter: drop-shadow(0px 1px 2px rgba(0, 0, 0, 0.3));\n",
              "      fill: #FFFFFF;\n",
              "    }\n",
              "  </style>\n",
              "\n",
              "    <script>\n",
              "      const buttonEl =\n",
              "        document.querySelector('#df-a13b3b62-496d-497d-8bd2-f43283320dd6 button.colab-df-convert');\n",
              "      buttonEl.style.display =\n",
              "        google.colab.kernel.accessAllowed ? 'block' : 'none';\n",
              "\n",
              "      async function convertToInteractive(key) {\n",
              "        const element = document.querySelector('#df-a13b3b62-496d-497d-8bd2-f43283320dd6');\n",
              "        const dataTable =\n",
              "          await google.colab.kernel.invokeFunction('convertToInteractive',\n",
              "                                                    [key], {});\n",
              "        if (!dataTable) return;\n",
              "\n",
              "        const docLinkHtml = 'Like what you see? Visit the ' +\n",
              "          '<a target=\"_blank\" href=https://colab.research.google.com/notebooks/data_table.ipynb>data table notebook</a>'\n",
              "          + ' to learn more about interactive tables.';\n",
              "        element.innerHTML = '';\n",
              "        dataTable['output_type'] = 'display_data';\n",
              "        await google.colab.output.renderOutput(dataTable, element);\n",
              "        const docLink = document.createElement('div');\n",
              "        docLink.innerHTML = docLinkHtml;\n",
              "        element.appendChild(docLink);\n",
              "      }\n",
              "    </script>\n",
              "  </div>\n",
              "\n",
              "\n",
              "    <div id=\"df-9dfb1f32-c2b5-4e14-9523-08523ff5efed\">\n",
              "      <button class=\"colab-df-quickchart\" onclick=\"quickchart('df-9dfb1f32-c2b5-4e14-9523-08523ff5efed')\"\n",
              "                title=\"Suggest charts\"\n",
              "                style=\"display:none;\">\n",
              "\n",
              "<svg xmlns=\"http://www.w3.org/2000/svg\" height=\"24px\"viewBox=\"0 0 24 24\"\n",
              "     width=\"24px\">\n",
              "    <g>\n",
              "        <path d=\"M19 3H5c-1.1 0-2 .9-2 2v14c0 1.1.9 2 2 2h14c1.1 0 2-.9 2-2V5c0-1.1-.9-2-2-2zM9 17H7v-7h2v7zm4 0h-2V7h2v10zm4 0h-2v-4h2v4z\"/>\n",
              "    </g>\n",
              "</svg>\n",
              "      </button>\n",
              "\n",
              "<style>\n",
              "  .colab-df-quickchart {\n",
              "      --bg-color: #E8F0FE;\n",
              "      --fill-color: #1967D2;\n",
              "      --hover-bg-color: #E2EBFA;\n",
              "      --hover-fill-color: #174EA6;\n",
              "      --disabled-fill-color: #AAA;\n",
              "      --disabled-bg-color: #DDD;\n",
              "  }\n",
              "\n",
              "  [theme=dark] .colab-df-quickchart {\n",
              "      --bg-color: #3B4455;\n",
              "      --fill-color: #D2E3FC;\n",
              "      --hover-bg-color: #434B5C;\n",
              "      --hover-fill-color: #FFFFFF;\n",
              "      --disabled-bg-color: #3B4455;\n",
              "      --disabled-fill-color: #666;\n",
              "  }\n",
              "\n",
              "  .colab-df-quickchart {\n",
              "    background-color: var(--bg-color);\n",
              "    border: none;\n",
              "    border-radius: 50%;\n",
              "    cursor: pointer;\n",
              "    display: none;\n",
              "    fill: var(--fill-color);\n",
              "    height: 32px;\n",
              "    padding: 0;\n",
              "    width: 32px;\n",
              "  }\n",
              "\n",
              "  .colab-df-quickchart:hover {\n",
              "    background-color: var(--hover-bg-color);\n",
              "    box-shadow: 0 1px 2px rgba(60, 64, 67, 0.3), 0 1px 3px 1px rgba(60, 64, 67, 0.15);\n",
              "    fill: var(--button-hover-fill-color);\n",
              "  }\n",
              "\n",
              "  .colab-df-quickchart-complete:disabled,\n",
              "  .colab-df-quickchart-complete:disabled:hover {\n",
              "    background-color: var(--disabled-bg-color);\n",
              "    fill: var(--disabled-fill-color);\n",
              "    box-shadow: none;\n",
              "  }\n",
              "\n",
              "  .colab-df-spinner {\n",
              "    border: 2px solid var(--fill-color);\n",
              "    border-color: transparent;\n",
              "    border-bottom-color: var(--fill-color);\n",
              "    animation:\n",
              "      spin 1s steps(1) infinite;\n",
              "  }\n",
              "\n",
              "  @keyframes spin {\n",
              "    0% {\n",
              "      border-color: transparent;\n",
              "      border-bottom-color: var(--fill-color);\n",
              "      border-left-color: var(--fill-color);\n",
              "    }\n",
              "    20% {\n",
              "      border-color: transparent;\n",
              "      border-left-color: var(--fill-color);\n",
              "      border-top-color: var(--fill-color);\n",
              "    }\n",
              "    30% {\n",
              "      border-color: transparent;\n",
              "      border-left-color: var(--fill-color);\n",
              "      border-top-color: var(--fill-color);\n",
              "      border-right-color: var(--fill-color);\n",
              "    }\n",
              "    40% {\n",
              "      border-color: transparent;\n",
              "      border-right-color: var(--fill-color);\n",
              "      border-top-color: var(--fill-color);\n",
              "    }\n",
              "    60% {\n",
              "      border-color: transparent;\n",
              "      border-right-color: var(--fill-color);\n",
              "    }\n",
              "    80% {\n",
              "      border-color: transparent;\n",
              "      border-right-color: var(--fill-color);\n",
              "      border-bottom-color: var(--fill-color);\n",
              "    }\n",
              "    90% {\n",
              "      border-color: transparent;\n",
              "      border-bottom-color: var(--fill-color);\n",
              "    }\n",
              "  }\n",
              "</style>\n",
              "\n",
              "      <script>\n",
              "        async function quickchart(key) {\n",
              "          const quickchartButtonEl =\n",
              "            document.querySelector('#' + key + ' button');\n",
              "          quickchartButtonEl.disabled = true;  // To prevent multiple clicks.\n",
              "          quickchartButtonEl.classList.add('colab-df-spinner');\n",
              "          try {\n",
              "            const charts = await google.colab.kernel.invokeFunction(\n",
              "                'suggestCharts', [key], {});\n",
              "          } catch (error) {\n",
              "            console.error('Error during call to suggestCharts:', error);\n",
              "          }\n",
              "          quickchartButtonEl.classList.remove('colab-df-spinner');\n",
              "          quickchartButtonEl.classList.add('colab-df-quickchart-complete');\n",
              "        }\n",
              "        (() => {\n",
              "          let quickchartButtonEl =\n",
              "            document.querySelector('#df-9dfb1f32-c2b5-4e14-9523-08523ff5efed button');\n",
              "          quickchartButtonEl.style.display =\n",
              "            google.colab.kernel.accessAllowed ? 'block' : 'none';\n",
              "        })();\n",
              "      </script>\n",
              "    </div>\n",
              "\n",
              "    </div>\n",
              "  </div>\n"
            ],
            "application/vnd.google.colaboratory.intrinsic+json": {
              "type": "dataframe",
              "variable_name": "df",
              "summary": "{\n  \"name\": \"df\",\n  \"rows\": 500,\n  \"fields\": [\n    {\n      \"column\": \"Temperature\",\n      \"properties\": {\n        \"dtype\": \"number\",\n        \"std\": 8.096387538573683,\n        \"min\": 0.0,\n        \"max\": 45.0,\n        \"num_unique_values\": 500,\n        \"samples\": [\n          29.70418303,\n          27.37540101,\n          23.98464085\n        ],\n        \"semantic_type\": \"\",\n        \"description\": \"\"\n      }\n    },\n    {\n      \"column\": \"Revenue\",\n      \"properties\": {\n        \"dtype\": \"number\",\n        \"std\": 175.40475081921582,\n        \"min\": 10.0,\n        \"max\": 1000.0,\n        \"num_unique_values\": 500,\n        \"samples\": [\n          659.8732869,\n          623.2487008,\n          559.1358692\n        ],\n        \"semantic_type\": \"\",\n        \"description\": \"\"\n      }\n    }\n  ]\n}"
            }
          },
          "metadata": {},
          "execution_count": 21
        }
      ],
      "source": [
        "df.head(10)"
      ]
    },
    {
      "cell_type": "code",
      "execution_count": 22,
      "metadata": {
        "colab": {
          "base_uri": "https://localhost:8080/"
        },
        "id": "E7puy9-xxS4A",
        "outputId": "541f34dc-e1f8-43f8-925f-5f60ae511c78"
      },
      "outputs": [
        {
          "output_type": "stream",
          "name": "stdout",
          "text": [
            "<class 'pandas.core.frame.DataFrame'>\n",
            "RangeIndex: 500 entries, 0 to 499\n",
            "Data columns (total 2 columns):\n",
            " #   Column       Non-Null Count  Dtype  \n",
            "---  ------       --------------  -----  \n",
            " 0   Temperature  500 non-null    float64\n",
            " 1   Revenue      500 non-null    float64\n",
            "dtypes: float64(2)\n",
            "memory usage: 7.9 KB\n"
          ]
        }
      ],
      "source": [
        "df.info()"
      ]
    },
    {
      "cell_type": "code",
      "execution_count": 23,
      "metadata": {
        "colab": {
          "base_uri": "https://localhost:8080/"
        },
        "id": "RUt2ON_UxyYk",
        "outputId": "82488e16-d0a8-44a1-c451-0df04b8f7ba9"
      },
      "outputs": [
        {
          "output_type": "execute_result",
          "data": {
            "text/plain": [
              "Index(['Temperature', 'Revenue'], dtype='object')"
            ]
          },
          "metadata": {},
          "execution_count": 23
        }
      ],
      "source": [
        "df.columns"
      ]
    },
    {
      "cell_type": "markdown",
      "metadata": {
        "id": "pfkS82Tsq7YC"
      },
      "source": [
        "**PRACTICE OPPORTUNITY #1 [OPTIONAL]:**\n",
        "- **Calculate the average and maximum temperature and revenue using an alternative method**"
      ]
    },
    {
      "cell_type": "markdown",
      "source": [
        "1. Using numpy function"
      ],
      "metadata": {
        "id": "ov17bLgHtHpa"
      }
    },
    {
      "cell_type": "code",
      "execution_count": 26,
      "metadata": {
        "colab": {
          "base_uri": "https://localhost:8080/"
        },
        "id": "g9JNettRq7YC",
        "outputId": "e4268391-bfa4-493c-abf1-dcc806928311"
      },
      "outputs": [
        {
          "output_type": "stream",
          "name": "stdout",
          "text": [
            "Average Temperature: 22.232225113404002\n",
            "Maximum Temperature: 45.0\n",
            "Average Revenue: 521.57077669154\n",
            "Maximum Revenue: 1000.0\n"
          ]
        }
      ],
      "source": [
        "# Convert columns to NumPy arrays\n",
        "temperature = df[\"Temperature\"].values\n",
        "revenue = df[\"Revenue\"].values\n",
        "\n",
        "# Calculate average (mean) and maximum\n",
        "avg_temp = np.mean(temperature)\n",
        "max_temp = np.max(temperature)\n",
        "\n",
        "avg_rev = np.mean(revenue)\n",
        "max_rev = np.max(revenue)\n",
        "\n",
        "print(\"Average Temperature:\", avg_temp)\n",
        "print(\"Maximum Temperature:\", max_temp)\n",
        "print(\"Average Revenue:\", avg_rev)\n",
        "print(\"Maximum Revenue:\", max_rev)\n"
      ]
    },
    {
      "cell_type": "markdown",
      "source": [
        "2. Using python built-in functions"
      ],
      "metadata": {
        "id": "bKkA2OTotsT3"
      }
    },
    {
      "cell_type": "code",
      "source": [
        "temperature = df[\"Temperature\"].tolist()\n",
        "revenue = df[\"Revenue\"].tolist()\n",
        "\n",
        "avg_temp = sum(temperature) / len(temperature)\n",
        "max_temp = max(temperature)\n",
        "\n",
        "avg_rev = sum(revenue) / len(revenue)\n",
        "max_rev = max(revenue)\n",
        "\n",
        "print(\"Average Temperature:\", avg_temp)\n",
        "print(\"Maximum Temperature:\", max_temp)\n",
        "print(\"Average Revenue:\", avg_rev)\n",
        "print(\"Maximum Revenue:\", max_rev)\n"
      ],
      "metadata": {
        "colab": {
          "base_uri": "https://localhost:8080/"
        },
        "id": "I0b9GpLZtrio",
        "outputId": "d248d7e8-7fb8-4a44-991b-95654b37e76f"
      },
      "execution_count": 27,
      "outputs": [
        {
          "output_type": "stream",
          "name": "stdout",
          "text": [
            "Average Temperature: 22.232225113404002\n",
            "Maximum Temperature: 45.0\n",
            "Average Revenue: 521.57077669154\n",
            "Maximum Revenue: 1000.0\n"
          ]
        }
      ]
    },
    {
      "cell_type": "markdown",
      "source": [
        "3. Using agg() ( Pandas alternative )"
      ],
      "metadata": {
        "id": "9gcpCotit5K3"
      }
    },
    {
      "cell_type": "code",
      "source": [
        "result = df.agg({\n",
        "    \"Temperature\": [\"mean\", \"max\"],\n",
        "    \"Revenue\": [\"mean\", \"max\"]\n",
        "})\n",
        "\n",
        "print(result)\n"
      ],
      "metadata": {
        "colab": {
          "base_uri": "https://localhost:8080/"
        },
        "id": "XN2cQgH0t4pT",
        "outputId": "d76188ec-b540-4335-a653-19caf9062097"
      },
      "execution_count": 28,
      "outputs": [
        {
          "output_type": "stream",
          "name": "stdout",
          "text": [
            "      Temperature      Revenue\n",
            "mean    22.232225   521.570777\n",
            "max     45.000000  1000.000000\n"
          ]
        }
      ]
    },
    {
      "cell_type": "markdown",
      "metadata": {
        "id": "LlszUhNNyrl_"
      },
      "source": [
        "# TASK #3: PERFORM DATA VISUALIZATION"
      ]
    },
    {
      "cell_type": "markdown",
      "source": [
        "1. Histogram"
      ],
      "metadata": {
        "id": "L_DHRrODuVDK"
      }
    },
    {
      "cell_type": "code",
      "execution_count": 34,
      "metadata": {
        "colab": {
          "base_uri": "https://localhost:8080/",
          "height": 487
        },
        "id": "TYcWopZVyvAs",
        "outputId": "2b4875b1-c8f1-486d-84d5-f8cdd30c64c2"
      },
      "outputs": [
        {
          "output_type": "display_data",
          "data": {
            "text/plain": [
              "<Figure size 1200x500 with 2 Axes>"
            ],
            "image/png": "[encoded data removed]"
          },
          "metadata": {}
        }
      ],
      "source": [
        "plt.figure(figsize=(12,5))\n",
        "\n",
        "plt.subplot(1,2,1)\n",
        "sns.histplot(df[\"Temperature\"], bins=15, color='skyblue')\n",
        "plt.title(\"Temperature Distribution\")\n",
        "\n",
        "plt.subplot(1,2,2)\n",
        "sns.histplot(df[\"Revenue\"], bins=15, color='salmon')\n",
        "plt.title(\"Revenue Distribution\")\n",
        "\n",
        "plt.show()\n"
      ]
    },
    {
      "cell_type": "markdown",
      "source": [
        "2. Boxplot"
      ],
      "metadata": {
        "id": "JBf_fJ66ur2p"
      }
    },
    {
      "cell_type": "code",
      "execution_count": 35,
      "metadata": {
        "colab": {
          "base_uri": "https://localhost:8080/",
          "height": 449
        },
        "id": "MqDCLgIAq7YC",
        "outputId": "e224f9a8-f705-482e-eedf-a1c4b90d18e2"
      },
      "outputs": [
        {
          "output_type": "display_data",
          "data": {
            "text/plain": [
              "<Figure size 1200x500 with 2 Axes>"
            ],
            "image/png": "[encoded data removed]"
          },
          "metadata": {}
        }
      ],
      "source": [
        "plt.figure(figsize=(12,5))\n",
        "\n",
        "plt.subplot(1,2,1)\n",
        "sns.boxplot(y=df[\"Temperature\"], color='lightgreen')\n",
        "plt.title(\"Temperature Boxplot\")\n",
        "\n",
        "plt.subplot(1,2,2)\n",
        "sns.boxplot(y=df[\"Revenue\"], color='orange')\n",
        "plt.title(\"Revenue Boxplot\")\n",
        "\n",
        "plt.show()\n"
      ]
    },
    {
      "cell_type": "markdown",
      "source": [
        "3. Scatter plot"
      ],
      "metadata": {
        "id": "ACB-vasVu49F"
      }
    },
    {
      "cell_type": "code",
      "source": [
        "# Generate random colors for each point\n",
        "colors = np.random.rand(len(df))  # array of 500 random values between 0 and 1\n",
        "\n",
        "plt.figure(figsize=(8,6))\n",
        "plt.scatter(df[\"Temperature\"], df[\"Revenue\"], c=colors, cmap='viridis', s=60)\n",
        "plt.colorbar(label=\"Random Color Scale\")  # optional: show color scale\n",
        "plt.title(\"Temperature vs Revenue (Random Colors)\")\n",
        "plt.xlabel(\"Temperature\")\n",
        "plt.ylabel(\"Revenue\")\n",
        "plt.show()"
      ],
      "metadata": {
        "colab": {
          "base_uri": "https://localhost:8080/",
          "height": 564
        },
        "id": "dW0phLSzu33U",
        "outputId": "ed4c69d9-ea79-48f3-e642-47b5a7618e84"
      },
      "execution_count": 37,
      "outputs": [
        {
          "output_type": "display_data",
          "data": {
            "text/plain": [
              "<Figure size 800x600 with 2 Axes>"
            ],
            "image/png": "[encoded data removed]"
          },
          "metadata": {}
        }
      ]
    },
    {
      "cell_type": "markdown",
      "source": [
        "4. Line plot"
      ],
      "metadata": {
        "id": "QAdWXYnqveoQ"
      }
    },
    {
      "cell_type": "code",
      "source": [
        "plt.figure(figsize=(8,6))\n",
        "sns.lineplot(x=\"Temperature\", y=\"Revenue\", data=df, marker='o', color='blue')\n",
        "plt.title(\"Revenue Trend with Temperature\")\n",
        "plt.xlabel(\"Temperature\")\n",
        "plt.ylabel(\"Revenue\")\n",
        "plt.show()\n"
      ],
      "metadata": {
        "colab": {
          "base_uri": "https://localhost:8080/",
          "height": 564
        },
        "id": "uA5pROq8vdmH",
        "outputId": "04227c7c-1c50-40c0-a0a5-6e37e72e2c8a"
      },
      "execution_count": 41,
      "outputs": [
        {
          "output_type": "display_data",
          "data": {
            "text/plain": [
              "<Figure size 800x600 with 1 Axes>"
            ],
            "image/png": "[encoded data removed]"
          },
          "metadata": {}
        }
      ]
    },
    {
      "cell_type": "markdown",
      "metadata": {
        "id": "Y0GmpAjG3GiH"
      },
      "source": [
        "# TASK #4: CREATE TESTING AND TRAINING DATASET"
      ]
    },
    {
      "cell_type": "code",
      "execution_count": 42,
      "metadata": {
        "id": "0-maV8hb9rYM"
      },
      "outputs": [],
      "source": [
        "# Feature (X) and target (y)\n",
        "X = df[[\"Temperature\"]].values   # shape (500,1)\n",
        "y = df[[\"Revenue\"]].values       # shape (500,1)\n"
      ]
    },
    {
      "cell_type": "code",
      "execution_count": 43,
      "metadata": {
        "colab": {
          "base_uri": "https://localhost:8080/"
        },
        "id": "z-gtV1hYq7YC",
        "outputId": "ea37776b-004c-4929-fcb7-e05df412b75e"
      },
      "outputs": [
        {
          "output_type": "stream",
          "name": "stdout",
          "text": [
            "X_train shape: (400, 1)\n",
            "X_test shape: (100, 1)\n",
            "y_train shape: (400, 1)\n",
            "y_test shape: (100, 1)\n"
          ]
        }
      ],
      "source": [
        "# 80% training, 20% testing\n",
        "X_train, X_test, y_train, y_test = train_test_split(\n",
        "    X, y, test_size=0.2, random_state=42\n",
        ")\n",
        "\n",
        "# Check shapes\n",
        "print(\"X_train shape:\", X_train.shape)\n",
        "print(\"X_test shape:\", X_test.shape)\n",
        "print(\"y_train shape:\", y_train.shape)\n",
        "print(\"y_test shape:\", y_test.shape)\n"
      ]
    },
    {
      "cell_type": "code",
      "execution_count": 44,
      "metadata": {
        "colab": {
          "base_uri": "https://localhost:8080/"
        },
        "id": "E5uGVlPNq7YC",
        "outputId": "f19cfa0a-56a5-485e-cc94-c9526165609b"
      },
      "outputs": [
        {
          "output_type": "stream",
          "name": "stdout",
          "text": [
            "(500, 1)\n",
            "(500, 1)\n"
          ]
        }
      ],
      "source": [
        "# reshaping the array from (500,) to (500, 1)\n",
        "X = X.reshape(-1,1)\n",
        "print(X.shape)\n",
        "\n",
        "# reshaping the array from (500,) to (500, 1)\n",
        "y = y.reshape(-1,1)\n",
        "print(y.shape)"
      ]
    },
    {
      "cell_type": "markdown",
      "metadata": {
        "id": "naLBH5-Gq7YD"
      },
      "source": [
        "**PRACTICE OPPORUNITY #2 [OPTIONAL]:**\n",
        "- **Change the split ratio to allocate 30% for testing and 70% for training.**\n",
        "- **Confirm that the train test split process is successful.**"
      ]
    },
    {
      "cell_type": "code",
      "execution_count": 46,
      "metadata": {
        "colab": {
          "base_uri": "https://localhost:8080/"
        },
        "id": "1-Mkdd-Fq7YD",
        "outputId": "7c8c076e-7ed2-4e9b-9d97-9f83ef45806a"
      },
      "outputs": [
        {
          "output_type": "stream",
          "name": "stdout",
          "text": [
            "X_train shape: (350, 1)\n",
            "X_test shape: (150, 1)\n",
            "y_train shape: (350, 1)\n",
            "y_test shape: (150, 1)\n"
          ]
        }
      ],
      "source": [
        "# Split dataset: 70% training, 30% testing\n",
        "X_train, X_test, y_train, y_test = train_test_split(\n",
        "    X, y, test_size=0.3, random_state=42\n",
        ")\n",
        "\n",
        "# Confirm shapes\n",
        "print(\"X_train shape:\", X_train.shape)\n",
        "print(\"X_test shape:\", X_test.shape)\n",
        "print(\"y_train shape:\", y_train.shape)\n",
        "print(\"y_test shape:\", y_test.shape)"
      ]
    },
    {
      "cell_type": "markdown",
      "metadata": {
        "id": "_dXoZAtVcbfA"
      },
      "source": [
        "# TASK #5: UNDERSTAND THEORY BEHIND SIMPLE LINER REGRESSION"
      ]
    },
    {
      "cell_type": "markdown",
      "metadata": {
        "id": "adpNHDEqq7YE"
      },
      "source": [
        "![Ice Cream Revenue vs Temperature](https://raw.githubusercontent.com/Illiyas124/Simple-Linear-Regression-for-the-Absolute-Beginner---COURSERA/main/Screenshot%202025-09-28%20153249.png)\n"
      ]
    },
    {
      "cell_type": "markdown",
      "metadata": {
        "id": "xKUYA2Zpq7YE"
      },
      "source": [
        "![Ice Cream Revenue vs Temperature](https://github.com/Illiyas124/Simple-Linear-Regression-for-the-Absolute-Beginner---COURSERA/blob/main/Screenshot%202025-09-28%20153300.png?raw=true)"
      ]
    },
    {
      "cell_type": "markdown",
      "metadata": {
        "id": "2u6EjCXSq7YE"
      },
      "source": [
        "![Ice Cream Revenue vs Temperature](https://github.com/Illiyas124/Simple-Linear-Regression-for-the-Absolute-Beginner---COURSERA/blob/main/Screenshot%202025-09-28%20153311.png?raw=true)"
      ]
    },
    {
      "cell_type": "markdown",
      "metadata": {
        "id": "xyhH4xFdq7YE"
      },
      "source": [
        "# TASK #6: TRAIN A SIMPLE LINEAR REGRESSION MODEL IN SCIKIT LEARN"
      ]
    },
    {
      "cell_type": "markdown",
      "source": [
        "Split data into Features and Target"
      ],
      "metadata": {
        "id": "l8M51sVL2Hio"
      }
    },
    {
      "cell_type": "code",
      "execution_count": 51,
      "metadata": {
        "colab": {
          "base_uri": "https://localhost:8080/"
        },
        "id": "9L6vMQ6ddfSd",
        "outputId": "3e8c14d9-df56-4212-d3b0-7e134fc50ec9",
        "scrolled": true
      },
      "outputs": [
        {
          "output_type": "stream",
          "name": "stdout",
          "text": [
            "X_train shape: (350, 1)\n",
            "X_test shape: (150, 1)\n"
          ]
        }
      ],
      "source": [
        "# Feature (X) and target (y)\n",
        "X = df[[\"Temperature\"]].values   # shape (500,1)\n",
        "y = df[[\"Revenue\"]].values       # shape (500,1)\n",
        "\n",
        "# Split into training and testing sets (70% train, 30% test)\n",
        "X_train, X_test, y_train, y_test = train_test_split(\n",
        "    X, y, test_size=0.3, random_state=42\n",
        ")\n",
        "\n",
        "print(\"X_train shape:\", X_train.shape)\n",
        "print(\"X_test shape:\", X_test.shape)\n"
      ]
    },
    {
      "cell_type": "markdown",
      "source": [
        "Train the sample linear Regression Model"
      ],
      "metadata": {
        "id": "uO-7u9tt2WIf"
      }
    },
    {
      "cell_type": "code",
      "execution_count": 52,
      "metadata": {
        "colab": {
          "base_uri": "https://localhost:8080/"
        },
        "id": "T93r6_HKdoMU",
        "outputId": "c60d732f-f25b-4ce1-94ff-fc331661f8ce",
        "scrolled": true
      },
      "outputs": [
        {
          "output_type": "stream",
          "name": "stdout",
          "text": [
            "Slope (m): 21.419336321435882\n",
            "Intercept (b): 45.68626765673889\n"
          ]
        }
      ],
      "source": [
        "# Create the model\n",
        "model = LinearRegression()\n",
        "\n",
        "# Fit the model on training data\n",
        "model.fit(X_train, y_train)\n",
        "\n",
        "# Print coefficients\n",
        "print(\"Slope (m):\", model.coef_[0][0])\n",
        "print(\"Intercept (b):\", model.intercept_[0])\n"
      ]
    },
    {
      "cell_type": "markdown",
      "source": [
        "Make Predictions"
      ],
      "metadata": {
        "id": "FfcZm1gE2h8n"
      }
    },
    {
      "cell_type": "code",
      "source": [
        "# Predict on testing set\n",
        "y_pred = model.predict(X_test)\n",
        "\n",
        "# Compare first 5 predictions with actual values\n",
        "print(\"Predictions:\", y_pred[:5].flatten())\n",
        "print(\"Actual values:\", y_test[:5].flatten())\n"
      ],
      "metadata": {
        "colab": {
          "base_uri": "https://localhost:8080/"
        },
        "id": "vw96WqSk2hK8",
        "outputId": "41a0416f-1b4c-44b4-9538-22b8349ee43a"
      },
      "execution_count": 53,
      "outputs": [
        {
          "output_type": "stream",
          "name": "stdout",
          "text": [
            "Predictions: [681.93015413 632.04918882 559.42135657 498.57772005 615.33467484]\n",
            "Actual values: [659.8732869 623.2487008 559.1358692 497.7523178 627.9018411]\n"
          ]
        }
      ]
    },
    {
      "cell_type": "markdown",
      "source": [
        "Visualize Regression Line"
      ],
      "metadata": {
        "id": "6xlj9UFG2sfl"
      }
    },
    {
      "cell_type": "code",
      "source": [
        "plt.figure(figsize=(8,6))\n",
        "plt.scatter(X_train, y_train, color='blue', label='Training data')\n",
        "plt.scatter(X_test, y_test, color='red', label='Testing data')\n",
        "plt.plot(X_test, y_pred, color='green', linewidth=2, label='Regression line')\n",
        "plt.xlabel(\"Temperature\")\n",
        "plt.ylabel(\"Revenue\")\n",
        "plt.title(\"Simple Linear Regression: Revenue vs Temperature\")\n",
        "plt.legend()\n",
        "plt.show()\n"
      ],
      "metadata": {
        "colab": {
          "base_uri": "https://localhost:8080/",
          "height": 564
        },
        "id": "BQWmqTpB2rJh",
        "outputId": "9b6ccf09-082e-47ee-839e-bca1cf0d2f89"
      },
      "execution_count": 54,
      "outputs": [
        {
          "output_type": "display_data",
          "data": {
            "text/plain": [
              "<Figure size 800x600 with 1 Axes>"
            ],
            "image/png": "[encoded data removed]"
          },
          "metadata": {}
        }
      ]
    },
    {
      "cell_type": "code",
      "execution_count": 56,
      "metadata": {
        "colab": {
          "base_uri": "https://localhost:8080/"
        },
        "id": "uUyzZYAHcrgs",
        "outputId": "e697dd0c-9067-4b77-fd5a-ba7c3c77a995"
      },
      "outputs": [
        {
          "output_type": "stream",
          "name": "stdout",
          "text": [
            "Linear Model Coeff (m): 21.419336321435882\n",
            "Linear Model Intercept (b): 45.68626765673889\n"
          ]
        }
      ],
      "source": [
        "from sklearn.linear_model import LinearRegression\n",
        "\n",
        "# Create the model instance\n",
        "SimpleLinearRegression = LinearRegression()\n",
        "\n",
        "# Fit the model\n",
        "SimpleLinearRegression.fit(X_train, y_train)\n",
        "\n",
        "# Correct way to print slope (m) and intercept (b)\n",
        "print('Linear Model Coeff (m):', SimpleLinearRegression.coef_[0][0])\n",
        "print('Linear Model Intercept (b):', SimpleLinearRegression.intercept_[0])\n"
      ]
    },
    {
      "cell_type": "markdown",
      "metadata": {
        "id": "LXH1dDaXq7YF"
      },
      "source": [
        "**PRACTICE OPPORTUNITY #3 [OPTIONAL]:**\n",
        "- **Set the fit_intercept attribute to False and retrain the model. What do you notice? comment on the result.**"
      ]
    },
    {
      "cell_type": "code",
      "execution_count": 59,
      "metadata": {
        "colab": {
          "base_uri": "https://localhost:8080/"
        },
        "id": "7K4zXdNVq7YF",
        "outputId": "e5e54d9b-e1a8-45f0-a537-da48603e6d7d"
      },
      "outputs": [
        {
          "output_type": "stream",
          "name": "stdout",
          "text": [
            "Slope (m) without intercept: 23.245377607462984\n",
            "Intercept (b) without intercept: 0.0\n"
          ]
        }
      ],
      "source": [
        "# Features and target\n",
        "X = df[[\"Temperature\"]].values\n",
        "y = df[\"Revenue\"].values  # 1D array\n",
        "\n",
        "# Split dataset (70% train, 30% test)\n",
        "X_train, X_test, y_train, y_test = train_test_split(X, y, test_size=0.3, random_state=42)\n",
        "\n",
        "# Create model with fit_intercept=False\n",
        "model_no_intercept = LinearRegression(fit_intercept=False)\n",
        "\n",
        "# Train the model\n",
        "model_no_intercept.fit(X_train, y_train)\n",
        "\n",
        "# Print slope and intercept\n",
        "print(\"Slope (m) without intercept:\", model_no_intercept.coef_[0])\n",
        "print(\"Intercept (b) without intercept:\", model_no_intercept.intercept_)\n"
      ]
    },
    {
      "cell_type": "markdown",
      "source": [
        "Predict and Visualize"
      ],
      "metadata": {
        "id": "cRHxC7He3lct"
      }
    },
    {
      "cell_type": "code",
      "source": [
        "# Predictions\n",
        "y_pred = model_no_intercept.predict(X_test)\n",
        "\n",
        "# Plot\n",
        "plt.figure(figsize=(8,6))\n",
        "plt.scatter(X_train, y_train, color='blue', label='Training data')\n",
        "plt.scatter(X_test, y_test, color='red', label='Testing data')\n",
        "plt.plot(X_test, y_pred, color='green', linewidth=2, label='Regression line (no intercept)')\n",
        "plt.xlabel(\"Temperature\")\n",
        "plt.ylabel(\"Revenue\")\n",
        "plt.title(\"Simple Linear Regression without Intercept\")\n",
        "plt.legend()\n",
        "plt.show()\n"
      ],
      "metadata": {
        "colab": {
          "base_uri": "https://localhost:8080/",
          "height": 564
        },
        "id": "CgAMc49-3kA4",
        "outputId": "19b11295-5f90-4788-9dfb-22a500b04201"
      },
      "execution_count": 60,
      "outputs": [
        {
          "output_type": "display_data",
          "data": {
            "text/plain": [
              "<Figure size 800x600 with 1 Axes>"
            ],
            "image/png": "[encoded data removed]"
          },
          "metadata": {}
        }
      ]
    },
    {
      "cell_type": "markdown",
      "metadata": {
        "id": "M9Q1cT9gq7YF"
      },
      "source": [
        "# TASK #7: EVALUATE TRAINED SIMPLE LINEAR REGRESSION MODEL IN SCIKIT LEARN"
      ]
    },
    {
      "cell_type": "code",
      "execution_count": 66,
      "metadata": {
        "id": "BQRkG80MdycN"
      },
      "outputs": [],
      "source": [
        "from sklearn.metrics import mean_squared_error, mean_absolute_error, r2_score\n",
        "\n",
        "# Load dataset\n",
        "url = \"https://raw.githubusercontent.com/Illiyas124/Simple-Linear-Regression-for-the-Absolute-Beginner---COURSERA/main/IceCreamData.csv\"\n",
        "df = pd.read_csv(url)\n",
        "\n",
        "# Features and target\n",
        "X = df[[\"Temperature\"]].values\n",
        "y = df[\"Revenue\"].values\n",
        "\n",
        "# Split into training and testing sets (70% train, 30% test)\n",
        "X_train, X_test, y_train, y_test = train_test_split(X, y, test_size=0.3, random_state=42)\n"
      ]
    },
    {
      "cell_type": "markdown",
      "source": [
        "Train Linear Regression Model"
      ],
      "metadata": {
        "id": "1GcTfEpe3-G_"
      }
    },
    {
      "cell_type": "code",
      "source": [
        "# Create and train the model\n",
        "model = LinearRegression()\n",
        "model.fit(X_train, y_train)\n",
        "\n",
        "# Predictions on test set\n",
        "y_pred = model.predict(X_test)\n"
      ],
      "metadata": {
        "id": "29P4Vs4M4D45"
      },
      "execution_count": 67,
      "outputs": []
    },
    {
      "cell_type": "markdown",
      "source": [
        "Evaluate Model"
      ],
      "metadata": {
        "id": "fEZbl-Fv4JRi"
      }
    },
    {
      "cell_type": "code",
      "source": [
        "# R² Score\n",
        "r2 = r2_score(y_test, y_pred)\n",
        "\n",
        "# Mean Absolute Error\n",
        "mae = mean_absolute_error(y_test, y_pred)\n",
        "\n",
        "# Mean Squared Error\n",
        "mse = mean_squared_error(y_test, y_pred)\n",
        "\n",
        "# Root Mean Squared Error\n",
        "rmse = np.sqrt(mse)\n",
        "\n",
        "print(\"Model Evaluation Metrics:\")\n",
        "print(\"R² Score:\", r2)\n",
        "print(\"Mean Absolute Error (MAE):\", mae)\n",
        "print(\"Mean Squared Error (MSE):\", mse)\n",
        "print(\"Root Mean Squared Error (RMSE):\", rmse)\n"
      ],
      "metadata": {
        "colab": {
          "base_uri": "https://localhost:8080/"
        },
        "id": "gjjASL8b4IHm",
        "outputId": "7703adc0-dd53-40ba-e248-4d11332bf301"
      },
      "execution_count": 68,
      "outputs": [
        {
          "output_type": "stream",
          "name": "stdout",
          "text": [
            "Model Evaluation Metrics:\n",
            "R² Score: 0.9798591190745727\n",
            "Mean Absolute Error (MAE): 18.893250828365733\n",
            "Mean Squared Error (MSE): 592.8023375060735\n",
            "Root Mean Squared Error (RMSE): 24.347532472636185\n"
          ]
        }
      ]
    },
    {
      "cell_type": "code",
      "execution_count": 69,
      "metadata": {
        "colab": {
          "base_uri": "https://localhost:8080/"
        },
        "id": "QoWmqHtzq7YQ",
        "outputId": "d6c64cd9-0087-4a8b-f6e3-543ac9ba5129"
      },
      "outputs": [
        {
          "output_type": "execute_result",
          "data": {
            "text/plain": [
              "0.9798591190745727"
            ]
          },
          "metadata": {},
          "execution_count": 69
        }
      ],
      "source": [
        "accuracy_LinearRegression = SimpleLinearRegression.score(X_test, y_test)\n",
        "accuracy_LinearRegression"
      ]
    },
    {
      "cell_type": "code",
      "execution_count": 70,
      "metadata": {
        "colab": {
          "base_uri": "https://localhost:8080/"
        },
        "id": "AmSUhUHfq7YR",
        "outputId": "ab7ff681-916e-4f07-9d08-0d0633c67586"
      },
      "outputs": [
        {
          "output_type": "stream",
          "name": "stdout",
          "text": [
            "Revenue Predictions = [[474.07299409]]\n"
          ]
        }
      ],
      "source": [
        "# Use the trained model to generate predictions\n",
        "\n",
        "Temp = np.array([20])\n",
        "Temp = Temp.reshape(-1,1)\n",
        "\n",
        "Revenue = SimpleLinearRegression.predict(Temp)\n",
        "print('Revenue Predictions =', Revenue)\n"
      ]
    },
    {
      "cell_type": "markdown",
      "metadata": {
        "id": "ipkTkxvoq7YR"
      },
      "source": [
        "**PRACTICE OPPORTUNITY #4 [OPTIONAL]:**\n",
        "- **Try at least 3 temperature values and record the output**\n",
        "- **Perform a sanity check and comment on your results!**"
      ]
    },
    {
      "cell_type": "markdown",
      "source": [
        "1. Define Example Temperatures"
      ],
      "metadata": {
        "id": "s2rtYTsC4jQx"
      }
    },
    {
      "cell_type": "code",
      "execution_count": 72,
      "metadata": {
        "id": "SmReJoYlq7YR"
      },
      "outputs": [],
      "source": [
        "# Example temperatures (in degrees)\n",
        "example_temperatures = [[20], [30], [40]]  # 2D array as scikit-learn expects\n"
      ]
    },
    {
      "cell_type": "markdown",
      "source": [
        "2. Predict Revenue"
      ],
      "metadata": {
        "id": "paU7Pdlw4nCX"
      }
    },
    {
      "cell_type": "code",
      "source": [
        "# Use the trained model to predict\n",
        "predicted_revenue = model.predict(example_temperatures)\n",
        "\n",
        "# Display results\n",
        "for temp, rev in zip(example_temperatures, predicted_revenue):\n",
        "    print(f\"Temperature: {temp[0]}°C -> Predicted Revenue: ${rev:.2f}\")\n"
      ],
      "metadata": {
        "colab": {
          "base_uri": "https://localhost:8080/"
        },
        "id": "wZxaNx7s4mZa",
        "outputId": "e53de1ee-9269-4815-db0b-0ec78a2cdd01"
      },
      "execution_count": 73,
      "outputs": [
        {
          "output_type": "stream",
          "name": "stdout",
          "text": [
            "Temperature: 20°C -> Predicted Revenue: $474.07\n",
            "Temperature: 30°C -> Predicted Revenue: $688.27\n",
            "Temperature: 40°C -> Predicted Revenue: $902.46\n"
          ]
        }
      ]
    },
    {
      "cell_type": "markdown",
      "metadata": {
        "id": "27OgYEJu9EFV"
      },
      "source": [
        "# EXCELLENT JOB"
      ]
    },
    {
      "cell_type": "markdown",
      "metadata": {
        "id": "qvxJgYQkq7YR"
      },
      "source": [
        "# PRACTICE OPPORTUNITIES SOLUTION"
      ]
    },
    {
      "cell_type": "markdown",
      "metadata": {
        "id": "9S9VhgkJq7YR"
      },
      "source": [
        "**PRACTICE OPPORTUNITY #1 SOLUTION:**\n",
        "- **Calculate the average and maximum temperature and revenue using an alternative method**"
      ]
    },
    {
      "cell_type": "code",
      "source": [
        "import pandas as pd\n",
        "import numpy as np\n",
        "\n",
        "# Load dataset\n",
        "url = \"https://raw.githubusercontent.com/Illiyas124/Simple-Linear-Regression-for-the-Absolute-Beginner---COURSERA/main/IceCreamData.csv\"\n",
        "df = pd.read_csv(url)\n",
        "\n",
        "# Convert to NumPy arrays\n",
        "temperature = df[\"Temperature\"].values\n",
        "revenue = df[\"Revenue\"].values\n",
        "\n",
        "# Average and maximum using NumPy\n",
        "avg_temp = np.mean(temperature)\n",
        "max_temp = np.max(temperature)\n",
        "avg_rev = np.mean(revenue)\n",
        "max_rev = np.max(revenue)\n",
        "\n",
        "print(\"Average Temperature:\", avg_temp)\n",
        "print(\"Maximum Temperature:\", max_temp)\n",
        "print(\"Average Revenue:\", avg_rev)\n",
        "print(\"Maximum Revenue:\", max_rev)\n"
      ],
      "metadata": {
        "colab": {
          "base_uri": "https://localhost:8080/"
        },
        "id": "P9_VYWDl457Y",
        "outputId": "377d0f98-c2a1-4a88-a5a9-91fb4f8f1bcd"
      },
      "execution_count": 75,
      "outputs": [
        {
          "output_type": "stream",
          "name": "stdout",
          "text": [
            "Average Temperature: 22.232225113404002\n",
            "Maximum Temperature: 45.0\n",
            "Average Revenue: 521.57077669154\n",
            "Maximum Revenue: 1000.0\n"
          ]
        }
      ]
    },
    {
      "cell_type": "code",
      "execution_count": 80,
      "metadata": {
        "colab": {
          "base_uri": "https://localhost:8080/",
          "height": 147
        },
        "id": "BpKXJmvKq7YR",
        "outputId": "691209ca-ffa4-4827-bd9d-2e36bc3687d0"
      },
      "outputs": [
        {
          "output_type": "execute_result",
          "data": {
            "text/plain": [
              "Temperature     22.232225\n",
              "Revenue        521.570777\n",
              "dtype: float64"
            ],
            "text/html": [
              "<div>\n",
              "<style scoped>\n",
              "    .dataframe tbody tr th:only-of-type {\n",
              "        vertical-align: middle;\n",
              "    }\n",
              "\n",
              "    .dataframe tbody tr th {\n",
              "        vertical-align: top;\n",
              "    }\n",
              "\n",
              "    .dataframe thead th {\n",
              "        text-align: right;\n",
              "    }\n",
              "</style>\n",
              "<table border=\"1\" class=\"dataframe\">\n",
              "  <thead>\n",
              "    <tr style=\"text-align: right;\">\n",
              "      <th></th>\n",
              "      <th>0</th>\n",
              "    </tr>\n",
              "  </thead>\n",
              "  <tbody>\n",
              "    <tr>\n",
              "      <th>Temperature</th>\n",
              "      <td>22.232225</td>\n",
              "    </tr>\n",
              "    <tr>\n",
              "      <th>Revenue</th>\n",
              "      <td>521.570777</td>\n",
              "    </tr>\n",
              "  </tbody>\n",
              "</table>\n",
              "</div><br><label><b>dtype:</b> float64</label>"
            ]
          },
          "metadata": {},
          "execution_count": 80
        }
      ],
      "source": [
        "# Calculate mean of all numeric columns\n",
        "df.mean()\n"
      ]
    },
    {
      "cell_type": "code",
      "execution_count": 82,
      "metadata": {
        "colab": {
          "base_uri": "https://localhost:8080/",
          "height": 147
        },
        "id": "DkyVNB3jq7YR",
        "outputId": "7fd3c0b2-07b1-44de-8136-39ede57e2961"
      },
      "outputs": [
        {
          "output_type": "execute_result",
          "data": {
            "text/plain": [
              "Temperature      45.0\n",
              "Revenue        1000.0\n",
              "dtype: float64"
            ],
            "text/html": [
              "<div>\n",
              "<style scoped>\n",
              "    .dataframe tbody tr th:only-of-type {\n",
              "        vertical-align: middle;\n",
              "    }\n",
              "\n",
              "    .dataframe tbody tr th {\n",
              "        vertical-align: top;\n",
              "    }\n",
              "\n",
              "    .dataframe thead th {\n",
              "        text-align: right;\n",
              "    }\n",
              "</style>\n",
              "<table border=\"1\" class=\"dataframe\">\n",
              "  <thead>\n",
              "    <tr style=\"text-align: right;\">\n",
              "      <th></th>\n",
              "      <th>0</th>\n",
              "    </tr>\n",
              "  </thead>\n",
              "  <tbody>\n",
              "    <tr>\n",
              "      <th>Temperature</th>\n",
              "      <td>45.0</td>\n",
              "    </tr>\n",
              "    <tr>\n",
              "      <th>Revenue</th>\n",
              "      <td>1000.0</td>\n",
              "    </tr>\n",
              "  </tbody>\n",
              "</table>\n",
              "</div><br><label><b>dtype:</b> float64</label>"
            ]
          },
          "metadata": {},
          "execution_count": 82
        }
      ],
      "source": [
        "df.max()"
      ]
    },
    {
      "cell_type": "markdown",
      "metadata": {
        "id": "OOJKEoQxq7YS"
      },
      "source": [
        "**PRACTICE OPPORUNITY #2 SOLUTION:**\n",
        "- **Change the split ratio to allocate 30% for testing and 70% for training.**\n",
        "- **Confirm that the train test split process is successful.**"
      ]
    },
    {
      "cell_type": "code",
      "source": [
        "import pandas as pd\n",
        "from sklearn.model_selection import train_test_split\n",
        "\n",
        "# Load the dataset\n",
        "url = \"https://raw.githubusercontent.com/Illiyas124/Simple-Linear-Regression-for-the-Absolute-Beginner---COURSERA/main/IceCreamData.csv\"\n",
        "df = pd.read_csv(url)\n",
        "\n",
        "# Features (X) and target (y)\n",
        "X = df[[\"Temperature\"]].values\n",
        "y = df[\"Revenue\"].values\n"
      ],
      "metadata": {
        "id": "l5jYQLDZ5ZKt"
      },
      "execution_count": 84,
      "outputs": []
    },
    {
      "cell_type": "code",
      "source": [
        "print(\"X_train shape:\", X_train.shape)\n",
        "print(\"X_test shape:\", X_test.shape)\n",
        "print(\"y_train shape:\", y_train.shape)\n",
        "print(\"y_test shape:\", y_test.shape)\n"
      ],
      "metadata": {
        "colab": {
          "base_uri": "https://localhost:8080/"
        },
        "id": "W-td2-0b5azc",
        "outputId": "d76d7d4b-9d84-465a-fdd8-bc3ba1706bf9"
      },
      "execution_count": 85,
      "outputs": [
        {
          "output_type": "stream",
          "name": "stdout",
          "text": [
            "X_train shape: (350, 1)\n",
            "X_test shape: (150, 1)\n",
            "y_train shape: (350,)\n",
            "y_test shape: (150,)\n"
          ]
        }
      ]
    },
    {
      "cell_type": "code",
      "execution_count": 86,
      "metadata": {
        "id": "6lJWWSwzq7YS"
      },
      "outputs": [],
      "source": [
        "from sklearn.model_selection import train_test_split\n",
        "X_train, X_test, y_train, y_test = train_test_split(X, y, test_size=0.3, random_state=10)"
      ]
    },
    {
      "cell_type": "code",
      "execution_count": 87,
      "metadata": {
        "colab": {
          "base_uri": "https://localhost:8080/"
        },
        "id": "VKtaztWnq7YS",
        "outputId": "22fd83df-b8ee-4086-9164-1a25d68e1398"
      },
      "outputs": [
        {
          "output_type": "execute_result",
          "data": {
            "text/plain": [
              "(350, 1)"
            ]
          },
          "metadata": {},
          "execution_count": 87
        }
      ],
      "source": [
        "X_train.shape"
      ]
    },
    {
      "cell_type": "code",
      "execution_count": 88,
      "metadata": {
        "colab": {
          "base_uri": "https://localhost:8080/"
        },
        "id": "BtEVSOZdq7YS",
        "outputId": "ab00fac4-d931-49b3-9455-34e046bbd803"
      },
      "outputs": [
        {
          "output_type": "execute_result",
          "data": {
            "text/plain": [
              "(350,)"
            ]
          },
          "metadata": {},
          "execution_count": 88
        }
      ],
      "source": [
        "y_train.shape"
      ]
    },
    {
      "cell_type": "code",
      "execution_count": 89,
      "metadata": {
        "colab": {
          "base_uri": "https://localhost:8080/"
        },
        "id": "wYrA2Emqq7YS",
        "outputId": "f42c41c5-183c-418c-fe60-c7cabdc9c781"
      },
      "outputs": [
        {
          "output_type": "execute_result",
          "data": {
            "text/plain": [
              "(150, 1)"
            ]
          },
          "metadata": {},
          "execution_count": 89
        }
      ],
      "source": [
        "X_test.shape"
      ]
    },
    {
      "cell_type": "code",
      "execution_count": 90,
      "metadata": {
        "colab": {
          "base_uri": "https://localhost:8080/"
        },
        "id": "up4pl3P-q7YS",
        "outputId": "ac780279-754c-451b-c8d5-aa81c4686eb5"
      },
      "outputs": [
        {
          "output_type": "execute_result",
          "data": {
            "text/plain": [
              "(150,)"
            ]
          },
          "metadata": {},
          "execution_count": 90
        }
      ],
      "source": [
        "y_test.shape"
      ]
    },
    {
      "cell_type": "markdown",
      "metadata": {
        "id": "dhxGGAaSq7YS"
      },
      "source": [
        "**PRACTICE OPPORTUNITY #3 SOLUTION:**\n",
        "- **Set the fit_intercept attribute to False and retrain the model. What do you notice? comment on the result.**"
      ]
    },
    {
      "cell_type": "code",
      "execution_count": 91,
      "metadata": {
        "colab": {
          "base_uri": "https://localhost:8080/",
          "height": 80
        },
        "id": "W_6dZK9tq7YS",
        "outputId": "4c16227e-33be-4111-f27e-381844a32081"
      },
      "outputs": [
        {
          "output_type": "execute_result",
          "data": {
            "text/plain": [
              "LinearRegression(fit_intercept=False)"
            ],
            "text/html": [
              "<style>#sk-container-id-1 {\n",
              "  /* Definition of color scheme common for light and dark mode */\n",
              "  --sklearn-color-text: #000;\n",
              "  --sklearn-color-text-muted: #666;\n",
              "  --sklearn-color-line: gray;\n",
              "  /* Definition of color scheme for unfitted estimators */\n",
              "  --sklearn-color-unfitted-level-0: #fff5e6;\n",
              "  --sklearn-color-unfitted-level-1: #f6e4d2;\n",
              "  --sklearn-color-unfitted-level-2: #ffe0b3;\n",
              "  --sklearn-color-unfitted-level-3: chocolate;\n",
              "  /* Definition of color scheme for fitted estimators */\n",
              "  --sklearn-color-fitted-level-0: #f0f8ff;\n",
              "  --sklearn-color-fitted-level-1: #d4ebff;\n",
              "  --sklearn-color-fitted-level-2: #b3dbfd;\n",
              "  --sklearn-color-fitted-level-3: cornflowerblue;\n",
              "\n",
              "  /* Specific color for light theme */\n",
              "  --sklearn-color-text-on-default-background: var(--sg-text-color, var(--theme-code-foreground, var(--jp-content-font-color1, black)));\n",
              "  --sklearn-color-background: var(--sg-background-color, var(--theme-background, var(--jp-layout-color0, white)));\n",
              "  --sklearn-color-border-box: var(--sg-text-color, var(--theme-code-foreground, var(--jp-content-font-color1, black)));\n",
              "  --sklearn-color-icon: #696969;\n",
              "\n",
              "  @media (prefers-color-scheme: dark) {\n",
              "    /* Redefinition of color scheme for dark theme */\n",
              "    --sklearn-color-text-on-default-background: var(--sg-text-color, var(--theme-code-foreground, var(--jp-content-font-color1, white)));\n",
              "    --sklearn-color-background: var(--sg-background-color, var(--theme-background, var(--jp-layout-color0, #111)));\n",
              "    --sklearn-color-border-box: var(--sg-text-color, var(--theme-code-foreground, var(--jp-content-font-color1, white)));\n",
              "    --sklearn-color-icon: #878787;\n",
              "  }\n",
              "}\n",
              "\n",
              "#sk-container-id-1 {\n",
              "  color: var(--sklearn-color-text);\n",
              "}\n",
              "\n",
              "#sk-container-id-1 pre {\n",
              "  padding: 0;\n",
              "}\n",
              "\n",
              "#sk-container-id-1 input.sk-hidden--visually {\n",
              "  border: 0;\n",
              "  clip: rect(1px 1px 1px 1px);\n",
              "  clip: rect(1px, 1px, 1px, 1px);\n",
              "  height: 1px;\n",
              "  margin: -1px;\n",
              "  overflow: hidden;\n",
              "  padding: 0;\n",
              "  position: absolute;\n",
              "  width: 1px;\n",
              "}\n",
              "\n",
              "#sk-container-id-1 div.sk-dashed-wrapped {\n",
              "  border: 1px dashed var(--sklearn-color-line);\n",
              "  margin: 0 0.4em 0.5em 0.4em;\n",
              "  box-sizing: border-box;\n",
              "  padding-bottom: 0.4em;\n",
              "  background-color: var(--sklearn-color-background);\n",
              "}\n",
              "\n",
              "#sk-container-id-1 div.sk-container {\n",
              "  /* jupyter's `normalize.less` sets `[hidden] { display: none; }`\n",
              "     but bootstrap.min.css set `[hidden] { display: none !important; }`\n",
              "     so we also need the `!important` here to be able to override the\n",
              "     default hidden behavior on the sphinx rendered scikit-learn.org.\n",
              "     See: https://github.com/scikit-learn/scikit-learn/issues/21755 */\n",
              "  display: inline-block !important;\n",
              "  position: relative;\n",
              "}\n",
              "\n",
              "#sk-container-id-1 div.sk-text-repr-fallback {\n",
              "  display: none;\n",
              "}\n",
              "\n",
              "div.sk-parallel-item,\n",
              "div.sk-serial,\n",
              "div.sk-item {\n",
              "  /* draw centered vertical line to link estimators */\n",
              "  background-image: linear-gradient(var(--sklearn-color-text-on-default-background), var(--sklearn-color-text-on-default-background));\n",
              "  background-size: 2px 100%;\n",
              "  background-repeat: no-repeat;\n",
              "  background-position: center center;\n",
              "}\n",
              "\n",
              "/* Parallel-specific style estimator block */\n",
              "\n",
              "#sk-container-id-1 div.sk-parallel-item::after {\n",
              "  content: \"\";\n",
              "  width: 100%;\n",
              "  border-bottom: 2px solid var(--sklearn-color-text-on-default-background);\n",
              "  flex-grow: 1;\n",
              "}\n",
              "\n",
              "#sk-container-id-1 div.sk-parallel {\n",
              "  display: flex;\n",
              "  align-items: stretch;\n",
              "  justify-content: center;\n",
              "  background-color: var(--sklearn-color-background);\n",
              "  position: relative;\n",
              "}\n",
              "\n",
              "#sk-container-id-1 div.sk-parallel-item {\n",
              "  display: flex;\n",
              "  flex-direction: column;\n",
              "}\n",
              "\n",
              "#sk-container-id-1 div.sk-parallel-item:first-child::after {\n",
              "  align-self: flex-end;\n",
              "  width: 50%;\n",
              "}\n",
              "\n",
              "#sk-container-id-1 div.sk-parallel-item:last-child::after {\n",
              "  align-self: flex-start;\n",
              "  width: 50%;\n",
              "}\n",
              "\n",
              "#sk-container-id-1 div.sk-parallel-item:only-child::after {\n",
              "  width: 0;\n",
              "}\n",
              "\n",
              "/* Serial-specific style estimator block */\n",
              "\n",
              "#sk-container-id-1 div.sk-serial {\n",
              "  display: flex;\n",
              "  flex-direction: column;\n",
              "  align-items: center;\n",
              "  background-color: var(--sklearn-color-background);\n",
              "  padding-right: 1em;\n",
              "  padding-left: 1em;\n",
              "}\n",
              "\n",
              "\n",
              "/* Toggleable style: style used for estimator/Pipeline/ColumnTransformer box that is\n",
              "clickable and can be expanded/collapsed.\n",
              "- Pipeline and ColumnTransformer use this feature and define the default style\n",
              "- Estimators will overwrite some part of the style using the `sk-estimator` class\n",
              "*/\n",
              "\n",
              "/* Pipeline and ColumnTransformer style (default) */\n",
              "\n",
              "#sk-container-id-1 div.sk-toggleable {\n",
              "  /* Default theme specific background. It is overwritten whether we have a\n",
              "  specific estimator or a Pipeline/ColumnTransformer */\n",
              "  background-color: var(--sklearn-color-background);\n",
              "}\n",
              "\n",
              "/* Toggleable label */\n",
              "#sk-container-id-1 label.sk-toggleable__label {\n",
              "  cursor: pointer;\n",
              "  display: flex;\n",
              "  width: 100%;\n",
              "  margin-bottom: 0;\n",
              "  padding: 0.5em;\n",
              "  box-sizing: border-box;\n",
              "  text-align: center;\n",
              "  align-items: start;\n",
              "  justify-content: space-between;\n",
              "  gap: 0.5em;\n",
              "}\n",
              "\n",
              "#sk-container-id-1 label.sk-toggleable__label .caption {\n",
              "  font-size: 0.6rem;\n",
              "  font-weight: lighter;\n",
              "  color: var(--sklearn-color-text-muted);\n",
              "}\n",
              "\n",
              "#sk-container-id-1 label.sk-toggleable__label-arrow:before {\n",
              "  /* Arrow on the left of the label */\n",
              "  content: \"▸\";\n",
              "  float: left;\n",
              "  margin-right: 0.25em;\n",
              "  color: var(--sklearn-color-icon);\n",
              "}\n",
              "\n",
              "#sk-container-id-1 label.sk-toggleable__label-arrow:hover:before {\n",
              "  color: var(--sklearn-color-text);\n",
              "}\n",
              "\n",
              "/* Toggleable content - dropdown */\n",
              "\n",
              "#sk-container-id-1 div.sk-toggleable__content {\n",
              "  max-height: 0;\n",
              "  max-width: 0;\n",
              "  overflow: hidden;\n",
              "  text-align: left;\n",
              "  /* unfitted */\n",
              "  background-color: var(--sklearn-color-unfitted-level-0);\n",
              "}\n",
              "\n",
              "#sk-container-id-1 div.sk-toggleable__content.fitted {\n",
              "  /* fitted */\n",
              "  background-color: var(--sklearn-color-fitted-level-0);\n",
              "}\n",
              "\n",
              "#sk-container-id-1 div.sk-toggleable__content pre {\n",
              "  margin: 0.2em;\n",
              "  border-radius: 0.25em;\n",
              "  color: var(--sklearn-color-text);\n",
              "  /* unfitted */\n",
              "  background-color: var(--sklearn-color-unfitted-level-0);\n",
              "}\n",
              "\n",
              "#sk-container-id-1 div.sk-toggleable__content.fitted pre {\n",
              "  /* unfitted */\n",
              "  background-color: var(--sklearn-color-fitted-level-0);\n",
              "}\n",
              "\n",
              "#sk-container-id-1 input.sk-toggleable__control:checked~div.sk-toggleable__content {\n",
              "  /* Expand drop-down */\n",
              "  max-height: 200px;\n",
              "  max-width: 100%;\n",
              "  overflow: auto;\n",
              "}\n",
              "\n",
              "#sk-container-id-1 input.sk-toggleable__control:checked~label.sk-toggleable__label-arrow:before {\n",
              "  content: \"▾\";\n",
              "}\n",
              "\n",
              "/* Pipeline/ColumnTransformer-specific style */\n",
              "\n",
              "#sk-container-id-1 div.sk-label input.sk-toggleable__control:checked~label.sk-toggleable__label {\n",
              "  color: var(--sklearn-color-text);\n",
              "  background-color: var(--sklearn-color-unfitted-level-2);\n",
              "}\n",
              "\n",
              "#sk-container-id-1 div.sk-label.fitted input.sk-toggleable__control:checked~label.sk-toggleable__label {\n",
              "  background-color: var(--sklearn-color-fitted-level-2);\n",
              "}\n",
              "\n",
              "/* Estimator-specific style */\n",
              "\n",
              "/* Colorize estimator box */\n",
              "#sk-container-id-1 div.sk-estimator input.sk-toggleable__control:checked~label.sk-toggleable__label {\n",
              "  /* unfitted */\n",
              "  background-color: var(--sklearn-color-unfitted-level-2);\n",
              "}\n",
              "\n",
              "#sk-container-id-1 div.sk-estimator.fitted input.sk-toggleable__control:checked~label.sk-toggleable__label {\n",
              "  /* fitted */\n",
              "  background-color: var(--sklearn-color-fitted-level-2);\n",
              "}\n",
              "\n",
              "#sk-container-id-1 div.sk-label label.sk-toggleable__label,\n",
              "#sk-container-id-1 div.sk-label label {\n",
              "  /* The background is the default theme color */\n",
              "  color: var(--sklearn-color-text-on-default-background);\n",
              "}\n",
              "\n",
              "/* On hover, darken the color of the background */\n",
              "#sk-container-id-1 div.sk-label:hover label.sk-toggleable__label {\n",
              "  color: var(--sklearn-color-text);\n",
              "  background-color: var(--sklearn-color-unfitted-level-2);\n",
              "}\n",
              "\n",
              "/* Label box, darken color on hover, fitted */\n",
              "#sk-container-id-1 div.sk-label.fitted:hover label.sk-toggleable__label.fitted {\n",
              "  color: var(--sklearn-color-text);\n",
              "  background-color: var(--sklearn-color-fitted-level-2);\n",
              "}\n",
              "\n",
              "/* Estimator label */\n",
              "\n",
              "#sk-container-id-1 div.sk-label label {\n",
              "  font-family: monospace;\n",
              "  font-weight: bold;\n",
              "  display: inline-block;\n",
              "  line-height: 1.2em;\n",
              "}\n",
              "\n",
              "#sk-container-id-1 div.sk-label-container {\n",
              "  text-align: center;\n",
              "}\n",
              "\n",
              "/* Estimator-specific */\n",
              "#sk-container-id-1 div.sk-estimator {\n",
              "  font-family: monospace;\n",
              "  border: 1px dotted var(--sklearn-color-border-box);\n",
              "  border-radius: 0.25em;\n",
              "  box-sizing: border-box;\n",
              "  margin-bottom: 0.5em;\n",
              "  /* unfitted */\n",
              "  background-color: var(--sklearn-color-unfitted-level-0);\n",
              "}\n",
              "\n",
              "#sk-container-id-1 div.sk-estimator.fitted {\n",
              "  /* fitted */\n",
              "  background-color: var(--sklearn-color-fitted-level-0);\n",
              "}\n",
              "\n",
              "/* on hover */\n",
              "#sk-container-id-1 div.sk-estimator:hover {\n",
              "  /* unfitted */\n",
              "  background-color: var(--sklearn-color-unfitted-level-2);\n",
              "}\n",
              "\n",
              "#sk-container-id-1 div.sk-estimator.fitted:hover {\n",
              "  /* fitted */\n",
              "  background-color: var(--sklearn-color-fitted-level-2);\n",
              "}\n",
              "\n",
              "/* Specification for estimator info (e.g. \"i\" and \"?\") */\n",
              "\n",
              "/* Common style for \"i\" and \"?\" */\n",
              "\n",
              ".sk-estimator-doc-link,\n",
              "a:link.sk-estimator-doc-link,\n",
              "a:visited.sk-estimator-doc-link {\n",
              "  float: right;\n",
              "  font-size: smaller;\n",
              "  line-height: 1em;\n",
              "  font-family: monospace;\n",
              "  background-color: var(--sklearn-color-background);\n",
              "  border-radius: 1em;\n",
              "  height: 1em;\n",
              "  width: 1em;\n",
              "  text-decoration: none !important;\n",
              "  margin-left: 0.5em;\n",
              "  text-align: center;\n",
              "  /* unfitted */\n",
              "  border: var(--sklearn-color-unfitted-level-1) 1pt solid;\n",
              "  color: var(--sklearn-color-unfitted-level-1);\n",
              "}\n",
              "\n",
              ".sk-estimator-doc-link.fitted,\n",
              "a:link.sk-estimator-doc-link.fitted,\n",
              "a:visited.sk-estimator-doc-link.fitted {\n",
              "  /* fitted */\n",
              "  border: var(--sklearn-color-fitted-level-1) 1pt solid;\n",
              "  color: var(--sklearn-color-fitted-level-1);\n",
              "}\n",
              "\n",
              "/* On hover */\n",
              "div.sk-estimator:hover .sk-estimator-doc-link:hover,\n",
              ".sk-estimator-doc-link:hover,\n",
              "div.sk-label-container:hover .sk-estimator-doc-link:hover,\n",
              ".sk-estimator-doc-link:hover {\n",
              "  /* unfitted */\n",
              "  background-color: var(--sklearn-color-unfitted-level-3);\n",
              "  color: var(--sklearn-color-background);\n",
              "  text-decoration: none;\n",
              "}\n",
              "\n",
              "div.sk-estimator.fitted:hover .sk-estimator-doc-link.fitted:hover,\n",
              ".sk-estimator-doc-link.fitted:hover,\n",
              "div.sk-label-container:hover .sk-estimator-doc-link.fitted:hover,\n",
              ".sk-estimator-doc-link.fitted:hover {\n",
              "  /* fitted */\n",
              "  background-color: var(--sklearn-color-fitted-level-3);\n",
              "  color: var(--sklearn-color-background);\n",
              "  text-decoration: none;\n",
              "}\n",
              "\n",
              "/* Span, style for the box shown on hovering the info icon */\n",
              ".sk-estimator-doc-link span {\n",
              "  display: none;\n",
              "  z-index: 9999;\n",
              "  position: relative;\n",
              "  font-weight: normal;\n",
              "  right: .2ex;\n",
              "  padding: .5ex;\n",
              "  margin: .5ex;\n",
              "  width: min-content;\n",
              "  min-width: 20ex;\n",
              "  max-width: 50ex;\n",
              "  color: var(--sklearn-color-text);\n",
              "  box-shadow: 2pt 2pt 4pt #999;\n",
              "  /* unfitted */\n",
              "  background: var(--sklearn-color-unfitted-level-0);\n",
              "  border: .5pt solid var(--sklearn-color-unfitted-level-3);\n",
              "}\n",
              "\n",
              ".sk-estimator-doc-link.fitted span {\n",
              "  /* fitted */\n",
              "  background: var(--sklearn-color-fitted-level-0);\n",
              "  border: var(--sklearn-color-fitted-level-3);\n",
              "}\n",
              "\n",
              ".sk-estimator-doc-link:hover span {\n",
              "  display: block;\n",
              "}\n",
              "\n",
              "/* \"?\"-specific style due to the `<a>` HTML tag */\n",
              "\n",
              "#sk-container-id-1 a.estimator_doc_link {\n",
              "  float: right;\n",
              "  font-size: 1rem;\n",
              "  line-height: 1em;\n",
              "  font-family: monospace;\n",
              "  background-color: var(--sklearn-color-background);\n",
              "  border-radius: 1rem;\n",
              "  height: 1rem;\n",
              "  width: 1rem;\n",
              "  text-decoration: none;\n",
              "  /* unfitted */\n",
              "  color: var(--sklearn-color-unfitted-level-1);\n",
              "  border: var(--sklearn-color-unfitted-level-1) 1pt solid;\n",
              "}\n",
              "\n",
              "#sk-container-id-1 a.estimator_doc_link.fitted {\n",
              "  /* fitted */\n",
              "  border: var(--sklearn-color-fitted-level-1) 1pt solid;\n",
              "  color: var(--sklearn-color-fitted-level-1);\n",
              "}\n",
              "\n",
              "/* On hover */\n",
              "#sk-container-id-1 a.estimator_doc_link:hover {\n",
              "  /* unfitted */\n",
              "  background-color: var(--sklearn-color-unfitted-level-3);\n",
              "  color: var(--sklearn-color-background);\n",
              "  text-decoration: none;\n",
              "}\n",
              "\n",
              "#sk-container-id-1 a.estimator_doc_link.fitted:hover {\n",
              "  /* fitted */\n",
              "  background-color: var(--sklearn-color-fitted-level-3);\n",
              "}\n",
              "</style><div id=\"sk-container-id-1\" class=\"sk-top-container\"><div class=\"sk-text-repr-fallback\"><pre>LinearRegression(fit_intercept=False)</pre><b>In a Jupyter environment, please rerun this cell to show the HTML representation or trust the notebook. <br />On GitHub, the HTML representation is unable to render, please try loading this page with nbviewer.org.</b></div><div class=\"sk-container\" hidden><div class=\"sk-item\"><div class=\"sk-estimator fitted sk-toggleable\"><input class=\"sk-toggleable__control sk-hidden--visually\" id=\"sk-estimator-id-1\" type=\"checkbox\" checked><label for=\"sk-estimator-id-1\" class=\"sk-toggleable__label fitted sk-toggleable__label-arrow\"><div><div>LinearRegression</div></div><div><a class=\"sk-estimator-doc-link fitted\" rel=\"noreferrer\" target=\"_blank\" href=\"https://scikit-learn.org/1.6/modules/generated/sklearn.linear_model.LinearRegression.html\">?<span>Documentation for LinearRegression</span></a><span class=\"sk-estimator-doc-link fitted\">i<span>Fitted</span></span></div></label><div class=\"sk-toggleable__content fitted\"><pre>LinearRegression(fit_intercept=False)</pre></div> </div></div></div></div>"
            ]
          },
          "metadata": {},
          "execution_count": 91
        }
      ],
      "source": [
        "from sklearn.linear_model import LinearRegression\n",
        "\n",
        "SimpleLinearRegression = LinearRegression(fit_intercept = False)\n",
        "SimpleLinearRegression.fit(X_train, y_train)"
      ]
    },
    {
      "cell_type": "markdown",
      "metadata": {
        "id": "scdvXsIlq7YS"
      },
      "source": [
        "**PRACTICE OPPORTUNITY #4 SOLUTION:**\n",
        "- **Try at least 3 temperature values and record the output**\n",
        "- **Perform a sanity check and comment on your results!**"
      ]
    },
    {
      "cell_type": "code",
      "execution_count": 17,
      "metadata": {
        "id": "UDqLClM_q7YT"
      },
      "outputs": [],
      "source": [
        "# Temp = 5, Revenue = $150\n",
        "# Temp = 20, Revenue = $474\n",
        "# Temp = 40, Revenue = $905"
      ]
    },
    {
      "cell_type": "code",
      "execution_count": 92,
      "metadata": {
        "colab": {
          "base_uri": "https://localhost:8080/",
          "height": 472
        },
        "id": "g_dq6aQIq7YT",
        "outputId": "09afad6b-7d9a-439c-9d8c-513556ac4e33"
      },
      "outputs": [
        {
          "output_type": "display_data",
          "data": {
            "text/plain": [
              "<Figure size 640x480 with 1 Axes>"
            ],
            "image/png": "[encoded data removed]"
          },
          "metadata": {}
        }
      ],
      "source": [
        "import matplotlib.pyplot as plt\n",
        "\n",
        "# Original regression line (from training)\n",
        "plt.scatter(X_train, y_train, color='blue', label='Training data')\n",
        "plt.scatter(X_test, y_test, color='red', label='Testing data')\n",
        "plt.plot(X_test, model.predict(X_test), color='green', linewidth=2, label='Regression line')\n",
        "\n",
        "# Example points\n",
        "plt.scatter(example_temperatures, predicted_revenue, color='orange', s=100, label='Example predictions')\n",
        "\n",
        "plt.xlabel(\"Temperature\")\n",
        "plt.ylabel(\"Revenue\")\n",
        "plt.title(\"Regression Line with Example Predictions\")\n",
        "plt.legend()\n",
        "plt.show()\n"
      ]
    },
    {
      "cell_type": "code",
      "source": [],
      "metadata": {
        "id": "WixtKhVg5ukB"
      },
      "execution_count": null,
      "outputs": []
    }
  ],
  "metadata": {
    "accelerator": "GPU",
    "colab": {
      "provenance": []
    },
    "kernelspec": {
      "display_name": "Python 3 (ipykernel)",
      "language": "python",
      "name": "python3"
    },
    "language_info": {
      "codemirror_mode": {
        "name": "ipython",
        "version": 3
      },
      "file_extension": ".py",
      "mimetype": "text/x-python",
      "name": "python",
      "nbconvert_exporter": "python",
      "pygments_lexer": "ipython3",
      "version": "3.10.6"
    }
  },
  "nbformat": 4,
  "nbformat_minor": 0
}